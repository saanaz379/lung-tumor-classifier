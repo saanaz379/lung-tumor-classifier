{
  "nbformat": 4,
  "nbformat_minor": 0,
  "metadata": {
    "colab": {
      "name": "QCNN-based_lung_tumor_classifier.ipynb",
      "provenance": []
    },
    "kernelspec": {
      "name": "python3",
      "display_name": "Python 3"
    },
    "language_info": {
      "name": "python"
    }
  },
  "cells": [
    {
      "cell_type": "code",
      "execution_count": null,
      "metadata": {
        "colab": {
          "base_uri": "https://localhost:8080/"
        },
        "id": "zhDSHhtBl7WQ",
        "outputId": "e2138c3d-23c9-48d2-fefc-7d0874c088a1"
      },
      "outputs": [
        {
          "output_type": "stream",
          "name": "stdout",
          "text": [
            "Collecting qiskit\n",
            "  Downloading qiskit-0.34.0.tar.gz (13 kB)\n",
            "Collecting qiskit-terra==0.19.1\n",
            "  Downloading qiskit_terra-0.19.1-cp37-cp37m-manylinux2010_x86_64.whl (6.4 MB)\n",
            "\u001b[K     |████████████████████████████████| 6.4 MB 4.2 MB/s \n",
            "\u001b[?25hCollecting qiskit-aer==0.10.1\n",
            "  Downloading qiskit_aer-0.10.1-cp37-cp37m-manylinux_2_12_x86_64.manylinux2010_x86_64.whl (18.0 MB)\n",
            "\u001b[K     |████████████████████████████████| 18.0 MB 50.8 MB/s \n",
            "\u001b[?25hCollecting qiskit-ibmq-provider==0.18.3\n",
            "  Downloading qiskit_ibmq_provider-0.18.3-py3-none-any.whl (238 kB)\n",
            "\u001b[K     |████████████████████████████████| 238 kB 56.3 MB/s \n",
            "\u001b[?25hCollecting qiskit-ignis==0.7.0\n",
            "  Downloading qiskit_ignis-0.7.0-py3-none-any.whl (200 kB)\n",
            "\u001b[K     |████████████████████████████████| 200 kB 65.7 MB/s \n",
            "\u001b[?25hRequirement already satisfied: scipy>=1.0 in /usr/local/lib/python3.7/dist-packages (from qiskit-aer==0.10.1->qiskit) (1.4.1)\n",
            "Requirement already satisfied: numpy>=1.16.3 in /usr/local/lib/python3.7/dist-packages (from qiskit-aer==0.10.1->qiskit) (1.19.5)\n",
            "Requirement already satisfied: urllib3>=1.21.1 in /usr/local/lib/python3.7/dist-packages (from qiskit-ibmq-provider==0.18.3->qiskit) (1.24.3)\n",
            "Requirement already satisfied: python-dateutil>=2.8.0 in /usr/local/lib/python3.7/dist-packages (from qiskit-ibmq-provider==0.18.3->qiskit) (2.8.2)\n",
            "Collecting requests-ntlm>=1.1.0\n",
            "  Downloading requests_ntlm-1.1.0-py2.py3-none-any.whl (5.7 kB)\n",
            "Requirement already satisfied: requests>=2.19 in /usr/local/lib/python3.7/dist-packages (from qiskit-ibmq-provider==0.18.3->qiskit) (2.23.0)\n",
            "Collecting websocket-client>=1.0.1\n",
            "  Downloading websocket_client-1.2.3-py3-none-any.whl (53 kB)\n",
            "\u001b[K     |████████████████████████████████| 53 kB 2.2 MB/s \n",
            "\u001b[?25hRequirement already satisfied: setuptools>=40.1.0 in /usr/local/lib/python3.7/dist-packages (from qiskit-ignis==0.7.0->qiskit) (57.4.0)\n",
            "Collecting retworkx>=0.8.0\n",
            "  Downloading retworkx-0.10.2-cp37-cp37m-manylinux_2_5_x86_64.manylinux1_x86_64.manylinux_2_12_x86_64.manylinux2010_x86_64.whl (1.4 MB)\n",
            "\u001b[K     |████████████████████████████████| 1.4 MB 66.2 MB/s \n",
            "\u001b[?25hRequirement already satisfied: psutil>=5 in /usr/local/lib/python3.7/dist-packages (from qiskit-terra==0.19.1->qiskit) (5.4.8)\n",
            "Collecting ply>=3.10\n",
            "  Downloading ply-3.11-py2.py3-none-any.whl (49 kB)\n",
            "\u001b[K     |████████████████████████████████| 49 kB 5.3 MB/s \n",
            "\u001b[?25hCollecting tweedledum<2.0,>=1.1\n",
            "  Downloading tweedledum-1.1.1-cp37-cp37m-manylinux_2_12_x86_64.manylinux2010_x86_64.whl (943 kB)\n",
            "\u001b[K     |████████████████████████████████| 943 kB 54.5 MB/s \n",
            "\u001b[?25hCollecting python-constraint>=1.4\n",
            "  Downloading python-constraint-1.4.0.tar.bz2 (18 kB)\n",
            "Requirement already satisfied: dill>=0.3 in /usr/local/lib/python3.7/dist-packages (from qiskit-terra==0.19.1->qiskit) (0.3.4)\n",
            "Collecting stevedore>=3.0.0\n",
            "  Downloading stevedore-3.5.0-py3-none-any.whl (49 kB)\n",
            "\u001b[K     |████████████████████████████████| 49 kB 6.0 MB/s \n",
            "\u001b[?25hRequirement already satisfied: sympy>=1.3 in /usr/local/lib/python3.7/dist-packages (from qiskit-terra==0.19.1->qiskit) (1.7.1)\n",
            "Collecting symengine>=0.8\n",
            "  Downloading symengine-0.8.1-cp37-cp37m-manylinux2010_x86_64.whl (38.2 MB)\n",
            "\u001b[K     |████████████████████████████████| 38.2 MB 1.2 MB/s \n",
            "\u001b[?25hCollecting scipy>=1.0\n",
            "  Downloading scipy-1.7.3-cp37-cp37m-manylinux_2_12_x86_64.manylinux2010_x86_64.whl (38.1 MB)\n",
            "\u001b[K     |████████████████████████████████| 38.1 MB 1.2 MB/s \n",
            "\u001b[?25hRequirement already satisfied: six>=1.5 in /usr/local/lib/python3.7/dist-packages (from python-dateutil>=2.8.0->qiskit-ibmq-provider==0.18.3->qiskit) (1.15.0)\n",
            "Requirement already satisfied: chardet<4,>=3.0.2 in /usr/local/lib/python3.7/dist-packages (from requests>=2.19->qiskit-ibmq-provider==0.18.3->qiskit) (3.0.4)\n",
            "Requirement already satisfied: certifi>=2017.4.17 in /usr/local/lib/python3.7/dist-packages (from requests>=2.19->qiskit-ibmq-provider==0.18.3->qiskit) (2021.10.8)\n",
            "Requirement already satisfied: idna<3,>=2.5 in /usr/local/lib/python3.7/dist-packages (from requests>=2.19->qiskit-ibmq-provider==0.18.3->qiskit) (2.10)\n",
            "Collecting ntlm-auth>=1.0.2\n",
            "  Downloading ntlm_auth-1.5.0-py2.py3-none-any.whl (29 kB)\n",
            "Collecting cryptography>=1.3\n",
            "  Downloading cryptography-36.0.1-cp36-abi3-manylinux_2_24_x86_64.whl (3.6 MB)\n",
            "\u001b[K     |████████████████████████████████| 3.6 MB 67.7 MB/s \n",
            "\u001b[?25hRequirement already satisfied: cffi>=1.12 in /usr/local/lib/python3.7/dist-packages (from cryptography>=1.3->requests-ntlm>=1.1.0->qiskit-ibmq-provider==0.18.3->qiskit) (1.15.0)\n",
            "Requirement already satisfied: pycparser in /usr/local/lib/python3.7/dist-packages (from cffi>=1.12->cryptography>=1.3->requests-ntlm>=1.1.0->qiskit-ibmq-provider==0.18.3->qiskit) (2.21)\n",
            "Collecting pbr!=2.1.0,>=2.0.0\n",
            "  Downloading pbr-5.8.0-py2.py3-none-any.whl (112 kB)\n",
            "\u001b[K     |████████████████████████████████| 112 kB 58.4 MB/s \n",
            "\u001b[?25hRequirement already satisfied: importlib-metadata>=1.7.0 in /usr/local/lib/python3.7/dist-packages (from stevedore>=3.0.0->qiskit-terra==0.19.1->qiskit) (4.8.2)\n",
            "Requirement already satisfied: zipp>=0.5 in /usr/local/lib/python3.7/dist-packages (from importlib-metadata>=1.7.0->stevedore>=3.0.0->qiskit-terra==0.19.1->qiskit) (3.6.0)\n",
            "Requirement already satisfied: typing-extensions>=3.6.4 in /usr/local/lib/python3.7/dist-packages (from importlib-metadata>=1.7.0->stevedore>=3.0.0->qiskit-terra==0.19.1->qiskit) (3.10.0.2)\n",
            "Requirement already satisfied: mpmath>=0.19 in /usr/local/lib/python3.7/dist-packages (from sympy>=1.3->qiskit-terra==0.19.1->qiskit) (1.2.1)\n",
            "Building wheels for collected packages: qiskit, python-constraint\n",
            "  Building wheel for qiskit (setup.py) ... \u001b[?25l\u001b[?25hdone\n",
            "  Created wheel for qiskit: filename=qiskit-0.34.0-py3-none-any.whl size=11764 sha256=9f1780476d5d028b08ccbe371f7d4884784473b48d20f51bef7764581c9fc058\n",
            "  Stored in directory: /root/.cache/pip/wheels/be/f4/26/53ffcc0c3a1303116016eaf20c4f0c8dc125bc3b3c7afa2347\n",
            "  Building wheel for python-constraint (setup.py) ... \u001b[?25l\u001b[?25hdone\n",
            "  Created wheel for python-constraint: filename=python_constraint-1.4.0-py2.py3-none-any.whl size=24081 sha256=97fa637431d714866ec2d61b3218f27812fd62dc1569c5a918dc4537d4567d47\n",
            "  Stored in directory: /root/.cache/pip/wheels/07/27/db/1222c80eb1e431f3d2199c12569cb1cac60f562a451fe30479\n",
            "Successfully built qiskit python-constraint\n",
            "Installing collected packages: pbr, tweedledum, symengine, stevedore, scipy, retworkx, python-constraint, ply, ntlm-auth, cryptography, websocket-client, requests-ntlm, qiskit-terra, qiskit-ignis, qiskit-ibmq-provider, qiskit-aer, qiskit\n",
            "  Attempting uninstall: scipy\n",
            "    Found existing installation: scipy 1.4.1\n",
            "    Uninstalling scipy-1.4.1:\n",
            "      Successfully uninstalled scipy-1.4.1\n",
            "\u001b[31mERROR: pip's dependency resolver does not currently take into account all the packages that are installed. This behaviour is the source of the following dependency conflicts.\n",
            "albumentations 0.1.12 requires imgaug<0.2.7,>=0.2.5, but you have imgaug 0.2.9 which is incompatible.\u001b[0m\n",
            "Successfully installed cryptography-36.0.1 ntlm-auth-1.5.0 pbr-5.8.0 ply-3.11 python-constraint-1.4.0 qiskit-0.34.0 qiskit-aer-0.10.1 qiskit-ibmq-provider-0.18.3 qiskit-ignis-0.7.0 qiskit-terra-0.19.1 requests-ntlm-1.1.0 retworkx-0.10.2 scipy-1.7.3 stevedore-3.5.0 symengine-0.8.1 tweedledum-1.1.1 websocket-client-1.2.3\n"
          ]
        }
      ],
      "source": [
        "! pip install qiskit"
      ]
    },
    {
      "cell_type": "code",
      "source": [
        "import qiskit\n",
        "import PIL\n",
        "import pandas as pd\n",
        "import numpy as np\n",
        "import os\n",
        "import time\n",
        "import operator\n",
        "import tensorflow as tf\n",
        "import matplotlib.pyplot as plt\n",
        "import math\n",
        "\n",
        "from qiskit import *\n",
        "from qiskit.circuit import Reset\n",
        "from qiskit.test.mock import FakeMontreal\n",
        "from qiskit.compiler import transpile\n",
        "from PIL import Image\n",
        "from time import perf_counter\n",
        "from tensorflow.keras import layers, models\n",
        "from math import *"
      ],
      "metadata": {
        "id": "iFI0NN4Fl9oO"
      },
      "execution_count": null,
      "outputs": []
    },
    {
      "cell_type": "code",
      "source": [
        "def construct_data_frame(dir):\n",
        "  nodule_types = ['NORMAL', 'BENIGN', 'MALIGNANT']\n",
        "  data = []\n",
        "  for nodule_num, nodule_type in enumerate(nodule_types):\n",
        "    i = 1\n",
        "    for image in os.listdir(os.path.join(dir, nodule_type)):\n",
        "      image_file = Image.open('{}/{}/{}'.format(dir, nodule_type, image))\n",
        "      data.append(['{}/{}/{}'.format(dir, nodule_type, image), nodule_num, nodule_type])\n",
        "      if i == 20:\n",
        "        break\n",
        "      i += 1\n",
        "  table = pd.DataFrame(data, columns = ['File', 'NoduleNum', 'NoduleTypes'])\n",
        "  table = table.sample(frac=1).reset_index(drop=True)\n",
        "  return table"
      ],
      "metadata": {
        "id": "FHUEJJNqmAfv"
      },
      "execution_count": null,
      "outputs": []
    },
    {
      "cell_type": "code",
      "source": [
        "def quantum_filter(input_vals):\n",
        "  qreg = QuantumRegister(5)\n",
        "  creg = ClassicalRegister(1)\n",
        "  circ = QuantumCircuit(qreg, creg)\n",
        "  for qubit in qreg:\n",
        "   circ.h(qubit)\n",
        "  for i in range(4):\n",
        "    circ.ry(pi*input_vals[i], i)\n",
        "  circ.z(qreg[0])\n",
        "  circ.h(qreg[3])\n",
        "  circ.cx(qreg[2], qreg[3])\n",
        "  circ.h(qreg[2])\n",
        "  circ.h(qreg[3])\n",
        "  circ.cx(qreg[1], qreg[2])\n",
        "  circ.h(qreg[3])\n",
        "  circ.h(qreg[1])\n",
        "  circ.h(qreg[2])\n",
        "  circ.cx(qreg[0], qreg[3])\n",
        "  circ.h(qreg[2])\n",
        "  circ.h(qreg[3])\n",
        "  circ.cx(qreg[0], qreg[2])\n",
        "  circ.h(qreg[3])\n",
        "  circ.cx(qreg[0], qreg[1])\n",
        "  circ.h(qreg[2])\n",
        "  circ.h(qreg[1])\n",
        "  circ.ccx(qreg[1], qreg[2], qreg[3])\n",
        "  circ.h(qreg[2])\n",
        "  circ.h(qreg[3])\n",
        "  circ.ccx(qreg[0], qreg[1], qreg[2])\n",
        "  circ.h(qreg[3])\n",
        "  circ.h(qreg[2])\n",
        "  circ.mcx([qreg[0], qreg[1], qreg[2]], qreg[3])\n",
        "  circ.z(qreg[2])\n",
        "  circ.h(qreg[3])\n",
        "  circ.z(qreg[3])\n",
        "  circ.h(qreg[3])\n",
        "  circ.cx(qreg[2], qreg[3])\n",
        "  circ.h(qreg[2])\n",
        "  circ.h(qreg[3])\n",
        "  circ.h(qreg[3])\n",
        "  circ.cx(qreg[1], qreg[3])\n",
        "  circ.h(qreg[1])\n",
        "  circ.h(qreg[3])\n",
        "  circ.h(qreg[3])\n",
        "  circ.cx(qreg[0], qreg[3])\n",
        "  circ.cx(qreg[0], qreg[2])\n",
        "  circ.h(qreg[3])\n",
        "  circ.cx(qreg[0], qreg[1])\n",
        "  circ.h(qreg[2])\n",
        "  circ.h(qreg[3])\n",
        "  circ.x(qreg[0])\n",
        "  circ.ccx(qreg[1], qreg[2], qreg[3])\n",
        "  circ.h(qreg[1])\n",
        "  circ.h(qreg[2])\n",
        "  circ.h(qreg[3])\n",
        "  circ.x(qreg[1])\n",
        "  circ.x(qreg[2])\n",
        "  circ.h(qreg[3])\n",
        "  circ.x(qreg[3])\n",
        "  circ.mcx([qreg[0], qreg[1], qreg[2], qreg[3]], qreg[4])\n",
        "  circ.measure(qreg[4], creg)\n",
        "  counts = execute(circ, Aer.get_backend('aer_simulator'), shots = 1000).result().get_counts(circ)\n",
        "  key = max(counts.items(), key=operator.itemgetter(1))[0]\n",
        "  return key == '1'"
      ],
      "metadata": {
        "id": "wCyUDteVmC2E"
      },
      "execution_count": null,
      "outputs": []
    },
    {
      "cell_type": "code",
      "source": [
        "def quantum_preprocess(train_nparrays):\n",
        "  cnn_input = [] # input into cnn after quanvolution (preprocessing step)\n",
        "  for curr_image in train_nparrays:\n",
        "    dimensions = curr_image.shape\n",
        "    num_rows_original = dimensions[0]\n",
        "    num_cols_original = dimensions[1]\n",
        "    modified_image_nparray = np.zeros((num_rows_original-1, num_cols_original-1))\n",
        "    for row in range(num_rows_original-1):\n",
        "      for col in range(num_cols_original-1):\n",
        "        filter_input = [curr_image[row][col], \n",
        "                        curr_image[row][col+1],\n",
        "                        curr_image[row+1][col], \n",
        "                        curr_image[row+1][col+1]]\n",
        "        filter_output = quantum_filter(filter_input)\n",
        "        if filter_output:\n",
        "          modified_image_nparray[row][col] = 1 #check poss vals\n",
        "    cnn_input.append(modified_image_nparray)\n",
        "  return cnn_input"
      ],
      "metadata": {
        "id": "BiFNFq2gmKBq"
      },
      "execution_count": null,
      "outputs": []
    },
    {
      "cell_type": "code",
      "source": [
        "# load data and preprocess\n",
        "train_data = construct_data_frame('/content/drive/MyDrive/QC-Final-Project/Modified_Dataset/Train')\n",
        "test_data = construct_data_frame('/content/drive/MyDrive/QC-Final-Project/Modified_Dataset/Test')\n",
        "\n",
        "train_nparrays = []\n",
        "train_nodule_types = []\n",
        "for col, row in train_data.iterrows():\n",
        "  image = Image.open(row['File'])\n",
        "  image = image.resize((10, 10))\n",
        "  image.save(row['File'])\n",
        "  train_nparrays.append(np.asarray(Image.open(row['File'])))\n",
        "  train_nodule_types.append(row['NoduleNum'])\n",
        "\n",
        "test_nparrays = []\n",
        "test_nodule_types = []\n",
        "for col, row in test_data.iloc[0:20].iterrows():\n",
        "  image = Image.open(row['File'])\n",
        "  image = image.resize((10, 10))\n",
        "  image.save(row['File'])\n",
        "  test_nparrays.append(np.asarray(Image.open(row['File'])))\n",
        "  test_nodule_types.append(test_data['NoduleNum'])"
      ],
      "metadata": {
        "id": "SQwWLWJlmKtD"
      },
      "execution_count": null,
      "outputs": []
    },
    {
      "cell_type": "code",
      "source": [
        "cnn_input = np.array(quantum_preprocess(train_nparrays))\n",
        "train_nodule_types = np.array(train_nodule_types)\n",
        "test_nparrays = np.array(quantum_preprocess(test_nparrays))\n",
        "test_nodule_types = np.array(test_nodule_types)"
      ],
      "metadata": {
        "id": "urMPHuMkmOBt"
      },
      "execution_count": null,
      "outputs": []
    },
    {
      "cell_type": "code",
      "source": [
        "# train\n",
        "qcnn = models.Sequential()\n",
        "qcnn.add(layers.Conv2D(32, (2, 2), activation = 'relu', input_shape=(9, 9, 1)))\n",
        "qcnn.add(layers.MaxPooling2D(3, 3))\n",
        "qcnn.add(layers.Conv2D(32, (1, 1), activation = 'relu', input_shape=(None, 2, 2, 10)))\n",
        "qcnn.add(layers.Flatten())\n",
        "qcnn.add(layers.Dense(3, activation='softmax'))\n",
        "qcnn.compile(optimizer = 'adam',\n",
        "             loss = \"sparse_categorical_crossentropy\",\n",
        "             metrics = [\"accuracy\"])\n",
        "history = qcnn.fit(cnn_input,\n",
        "                   train_nodule_types,\n",
        "                   validation_split = 0.2,\n",
        "                   epochs = 10,\n",
        "                   verbose = 2)"
      ],
      "metadata": {
        "colab": {
          "base_uri": "https://localhost:8080/"
        },
        "id": "rYzD0yklmQLz",
        "outputId": "bb9ce795-2503-4cb7-9021-4de09a292779"
      },
      "execution_count": null,
      "outputs": [
        {
          "output_type": "stream",
          "name": "stdout",
          "text": [
            "Epoch 1/10\n",
            "2/2 - 1s - loss: 1.1290 - accuracy: 0.3125 - val_loss: 1.0477 - val_accuracy: 0.4167 - 565ms/epoch - 282ms/step\n",
            "Epoch 2/10\n",
            "2/2 - 0s - loss: 1.1155 - accuracy: 0.3125 - val_loss: 1.0742 - val_accuracy: 0.3333 - 30ms/epoch - 15ms/step\n",
            "Epoch 3/10\n",
            "2/2 - 0s - loss: 1.1058 - accuracy: 0.2500 - val_loss: 1.0998 - val_accuracy: 0.2500 - 24ms/epoch - 12ms/step\n",
            "Epoch 4/10\n",
            "2/2 - 0s - loss: 1.0974 - accuracy: 0.2917 - val_loss: 1.1250 - val_accuracy: 0.1667 - 23ms/epoch - 11ms/step\n",
            "Epoch 5/10\n",
            "2/2 - 0s - loss: 1.0914 - accuracy: 0.4167 - val_loss: 1.1514 - val_accuracy: 0.0000e+00 - 25ms/epoch - 13ms/step\n",
            "Epoch 6/10\n",
            "2/2 - 0s - loss: 1.0863 - accuracy: 0.4167 - val_loss: 1.1771 - val_accuracy: 0.0000e+00 - 23ms/epoch - 12ms/step\n",
            "Epoch 7/10\n",
            "2/2 - 0s - loss: 1.0815 - accuracy: 0.4167 - val_loss: 1.2017 - val_accuracy: 0.0000e+00 - 25ms/epoch - 13ms/step\n",
            "Epoch 8/10\n",
            "2/2 - 0s - loss: 1.0773 - accuracy: 0.4167 - val_loss: 1.2235 - val_accuracy: 0.0000e+00 - 38ms/epoch - 19ms/step\n",
            "Epoch 9/10\n",
            "2/2 - 0s - loss: 1.0791 - accuracy: 0.4167 - val_loss: 1.2462 - val_accuracy: 0.0000e+00 - 42ms/epoch - 21ms/step\n",
            "Epoch 10/10\n",
            "2/2 - 0s - loss: 1.0752 - accuracy: 0.4167 - val_loss: 1.2616 - val_accuracy: 0.0000e+00 - 28ms/epoch - 14ms/step\n"
          ]
        }
      ]
    },
    {
      "cell_type": "code",
      "source": [
        "# accuracy and loss plots\n",
        "plt.plot(history.history['accuracy'])\n",
        "plt.plot(history.history['val_accuracy'])\n",
        "plt.title('model accuracy')\n",
        "plt.ylabel('accuracy')\n",
        "plt.xlabel('epoch')\n",
        "plt.legend(['train', 'test'], loc='upper left')\n",
        "plt.show()\n",
        "\n",
        "plt.plot(history.history['loss'])\n",
        "plt.plot(history.history['val_loss'])\n",
        "plt.title('model loss')\n",
        "plt.ylabel('loss')\n",
        "plt.xlabel('epoch')\n",
        "plt.legend(['train', 'test'], loc='upper left')\n",
        "plt.show()"
      ],
      "metadata": {
        "colab": {
          "base_uri": "https://localhost:8080/",
          "height": 573
        },
        "id": "Vg5h4roRmWJ2",
        "outputId": "a53f2624-6c07-4b7d-944f-aa6e58fc2b69"
      },
      "execution_count": null,
      "outputs": [
        {
          "output_type": "display_data",
          "data": {
            "image/png": "[encoded data removed]",
            "text/plain": [
              "<Figure size 432x288 with 1 Axes>"
            ]
          },
          "metadata": {
            "needs_background": "light"
          }
        },
        {
          "output_type": "display_data",
          "data": {
            "image/png": "[encoded data removed]",
            "text/plain": [
              "<Figure size 432x288 with 1 Axes>"
            ]
          },
          "metadata": {
            "needs_background": "light"
          }
        }
      ]
    }
  ]
}